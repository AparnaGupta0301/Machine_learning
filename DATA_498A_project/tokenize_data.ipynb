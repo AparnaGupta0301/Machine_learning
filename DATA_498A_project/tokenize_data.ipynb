{
 "cells": [
  {
   "cell_type": "code",
   "execution_count": 13,
   "metadata": {},
   "outputs": [
    {
     "name": "stdout",
     "output_type": "stream",
     "text": [
      "Requirement already satisfied: pandas in c:\\users\\gapar\\anaconda3\\envs\\quan_comp\\lib\\site-packages (2.2.2)\n",
      "Requirement already satisfied: numpy>=1.26.0 in c:\\users\\gapar\\anaconda3\\envs\\quan_comp\\lib\\site-packages (from pandas) (1.26.4)\n",
      "Requirement already satisfied: python-dateutil>=2.8.2 in c:\\users\\gapar\\anaconda3\\envs\\quan_comp\\lib\\site-packages (from pandas) (2.9.0)\n",
      "Requirement already satisfied: pytz>=2020.1 in c:\\users\\gapar\\anaconda3\\envs\\quan_comp\\lib\\site-packages (from pandas) (2024.1)\n",
      "Requirement already satisfied: tzdata>=2022.7 in c:\\users\\gapar\\anaconda3\\envs\\quan_comp\\lib\\site-packages (from pandas) (2024.1)\n",
      "Requirement already satisfied: six>=1.5 in c:\\users\\gapar\\anaconda3\\envs\\quan_comp\\lib\\site-packages (from python-dateutil>=2.8.2->pandas) (1.16.0)\n",
      "Collecting scikit-learn\n",
      "  Downloading scikit_learn-1.4.2-cp312-cp312-win_amd64.whl.metadata (11 kB)\n",
      "Requirement already satisfied: numpy>=1.19.5 in c:\\users\\gapar\\anaconda3\\envs\\quan_comp\\lib\\site-packages (from scikit-learn) (1.26.4)\n",
      "Requirement already satisfied: scipy>=1.6.0 in c:\\users\\gapar\\anaconda3\\envs\\quan_comp\\lib\\site-packages (from scikit-learn) (1.12.0)\n",
      "Collecting joblib>=1.2.0 (from scikit-learn)\n",
      "  Downloading joblib-1.4.0-py3-none-any.whl.metadata (5.4 kB)\n",
      "Collecting threadpoolctl>=2.0.0 (from scikit-learn)\n",
      "  Downloading threadpoolctl-3.4.0-py3-none-any.whl.metadata (13 kB)\n",
      "Downloading scikit_learn-1.4.2-cp312-cp312-win_amd64.whl (10.6 MB)\n",
      "   ---------------------------------------- 0.0/10.6 MB ? eta -:--:--\n",
      "   ---------------------------------------- 0.1/10.6 MB 1.7 MB/s eta 0:00:07\n",
      "   - -------------------------------------- 0.4/10.6 MB 4.1 MB/s eta 0:00:03\n",
      "   -- ------------------------------------- 0.8/10.6 MB 5.4 MB/s eta 0:00:02\n",
      "   ---- ----------------------------------- 1.1/10.6 MB 6.1 MB/s eta 0:00:02\n",
      "   ----- ---------------------------------- 1.5/10.6 MB 5.9 MB/s eta 0:00:02\n",
      "   -------- ------------------------------- 2.2/10.6 MB 7.4 MB/s eta 0:00:02\n",
      "   --------- ------------------------------ 2.5/10.6 MB 7.9 MB/s eta 0:00:02\n",
      "   ---------- ----------------------------- 2.8/10.6 MB 7.2 MB/s eta 0:00:02\n",
      "   ------------ --------------------------- 3.3/10.6 MB 7.6 MB/s eta 0:00:01\n",
      "   -------------- ------------------------- 3.8/10.6 MB 7.6 MB/s eta 0:00:01\n",
      "   --------------- ------------------------ 4.2/10.6 MB 7.7 MB/s eta 0:00:01\n",
      "   --------------- ------------------------ 4.2/10.6 MB 7.7 MB/s eta 0:00:01\n",
      "   ----------------- ---------------------- 4.7/10.6 MB 7.4 MB/s eta 0:00:01\n",
      "   ----------------- ---------------------- 4.7/10.6 MB 7.4 MB/s eta 0:00:01\n",
      "   ------------------- -------------------- 5.2/10.6 MB 7.0 MB/s eta 0:00:01\n",
      "   ---------------------- ----------------- 6.0/10.6 MB 7.7 MB/s eta 0:00:01\n",
      "   ------------------------- -------------- 6.7/10.6 MB 8.0 MB/s eta 0:00:01\n",
      "   ------------------------- -------------- 6.9/10.6 MB 7.8 MB/s eta 0:00:01\n",
      "   -------------------------- ------------- 7.0/10.6 MB 7.9 MB/s eta 0:00:01\n",
      "   -------------------------- ------------- 7.0/10.6 MB 7.3 MB/s eta 0:00:01\n",
      "   -------------------------- ------------- 7.1/10.6 MB 7.0 MB/s eta 0:00:01\n",
      "   -------------------------- ------------- 7.1/10.6 MB 6.9 MB/s eta 0:00:01\n",
      "   ---------------------------- ----------- 7.6/10.6 MB 6.8 MB/s eta 0:00:01\n",
      "   ------------------------------ --------- 8.2/10.6 MB 7.1 MB/s eta 0:00:01\n",
      "   ------------------------------- -------- 8.2/10.6 MB 6.9 MB/s eta 0:00:01\n",
      "   --------------------------------- ------ 8.9/10.6 MB 7.1 MB/s eta 0:00:01\n",
      "   ---------------------------------- ----- 9.3/10.6 MB 7.1 MB/s eta 0:00:01\n",
      "   ---------------------------------- ----- 9.3/10.6 MB 7.1 MB/s eta 0:00:01\n",
      "   ------------------------------------- -- 10.0/10.6 MB 7.2 MB/s eta 0:00:01\n",
      "   -------------------------------------- - 10.1/10.6 MB 7.1 MB/s eta 0:00:01\n",
      "   -------------------------------------- - 10.3/10.6 MB 7.0 MB/s eta 0:00:01\n",
      "   -------------------------------------- - 10.3/10.6 MB 7.0 MB/s eta 0:00:01\n",
      "   ---------------------------------------  10.6/10.6 MB 7.0 MB/s eta 0:00:01\n",
      "   ---------------------------------------- 10.6/10.6 MB 6.7 MB/s eta 0:00:00\n",
      "Downloading joblib-1.4.0-py3-none-any.whl (301 kB)\n",
      "   ---------------------------------------- 0.0/301.2 kB ? eta -:--:--\n",
      "   ------------ --------------------------- 92.2/301.2 kB 2.6 MB/s eta 0:00:01\n",
      "   ------------------- -------------------- 143.4/301.2 kB 2.1 MB/s eta 0:00:01\n",
      "   --------------------------- ------------ 204.8/301.2 kB 1.8 MB/s eta 0:00:01\n",
      "   ---------------------------------------  297.0/301.2 kB 1.8 MB/s eta 0:00:01\n",
      "   ---------------------------------------- 301.2/301.2 kB 1.7 MB/s eta 0:00:00\n",
      "Downloading threadpoolctl-3.4.0-py3-none-any.whl (17 kB)\n",
      "Installing collected packages: threadpoolctl, joblib, scikit-learn\n",
      "Successfully installed joblib-1.4.0 scikit-learn-1.4.2 threadpoolctl-3.4.0\n"
     ]
    }
   ],
   "source": [
    "!pip install pandas\n",
    "!pip install scikit-learn"
   ]
  },
  {
   "cell_type": "code",
   "execution_count": 7,
   "metadata": {},
   "outputs": [
    {
     "data": {
      "text/html": [
       "<div>\n",
       "<style scoped>\n",
       "    .dataframe tbody tr th:only-of-type {\n",
       "        vertical-align: middle;\n",
       "    }\n",
       "\n",
       "    .dataframe tbody tr th {\n",
       "        vertical-align: top;\n",
       "    }\n",
       "\n",
       "    .dataframe thead th {\n",
       "        text-align: right;\n",
       "    }\n",
       "</style>\n",
       "<table border=\"1\" class=\"dataframe\">\n",
       "  <thead>\n",
       "    <tr style=\"text-align: right;\">\n",
       "      <th></th>\n",
       "      <th>problem</th>\n",
       "      <th>level</th>\n",
       "      <th>type</th>\n",
       "    </tr>\n",
       "  </thead>\n",
       "  <tbody>\n",
       "    <tr>\n",
       "      <th>0</th>\n",
       "      <td>Kevin Kangaroo begins hopping on a number line...</td>\n",
       "      <td>Level 5</td>\n",
       "      <td>Algebra</td>\n",
       "    </tr>\n",
       "    <tr>\n",
       "      <th>1</th>\n",
       "      <td>The ratio of the areas of two squares is $\\fra...</td>\n",
       "      <td>Level 4</td>\n",
       "      <td>Algebra</td>\n",
       "    </tr>\n",
       "    <tr>\n",
       "      <th>2</th>\n",
       "      <td>If $\\sqrt{2\\sqrt{t-2}} = \\sqrt[4]{7 - t}$, the...</td>\n",
       "      <td>Level 4</td>\n",
       "      <td>Algebra</td>\n",
       "    </tr>\n",
       "    <tr>\n",
       "      <th>3</th>\n",
       "      <td>Let $t(x) = \\sqrt{3x+1}$ and $f(x)=5-t(x)$. Wh...</td>\n",
       "      <td>Level 4</td>\n",
       "      <td>Algebra</td>\n",
       "    </tr>\n",
       "    <tr>\n",
       "      <th>4</th>\n",
       "      <td>James has a total of 66 dollars in his piggy b...</td>\n",
       "      <td>Level 2</td>\n",
       "      <td>Algebra</td>\n",
       "    </tr>\n",
       "  </tbody>\n",
       "</table>\n",
       "</div>"
      ],
      "text/plain": [
       "                                             problem    level     type\n",
       "0  Kevin Kangaroo begins hopping on a number line...  Level 5  Algebra\n",
       "1  The ratio of the areas of two squares is $\\fra...  Level 4  Algebra\n",
       "2  If $\\sqrt{2\\sqrt{t-2}} = \\sqrt[4]{7 - t}$, the...  Level 4  Algebra\n",
       "3  Let $t(x) = \\sqrt{3x+1}$ and $f(x)=5-t(x)$. Wh...  Level 4  Algebra\n",
       "4  James has a total of 66 dollars in his piggy b...  Level 2  Algebra"
      ]
     },
     "execution_count": 7,
     "metadata": {},
     "output_type": "execute_result"
    }
   ],
   "source": [
    "import pandas as pd\n",
    "\n",
    "# Load the CSV file\n",
    "file_path = 'C:\\\\Users\\\\gapar\\\\Downloads\\\\external_df.csv'\n",
    "\n",
    "data = pd.read_csv(file_path)\n",
    "\n",
    "# Display the first few rows of the dataframe to understand its structure\n",
    "data.head()"
   ]
  },
  {
   "cell_type": "code",
   "execution_count": 9,
   "metadata": {},
   "outputs": [
    {
     "data": {
      "text/html": [
       "<div>\n",
       "<style scoped>\n",
       "    .dataframe tbody tr th:only-of-type {\n",
       "        vertical-align: middle;\n",
       "    }\n",
       "\n",
       "    .dataframe tbody tr th {\n",
       "        vertical-align: top;\n",
       "    }\n",
       "\n",
       "    .dataframe thead th {\n",
       "        text-align: right;\n",
       "    }\n",
       "</style>\n",
       "<table border=\"1\" class=\"dataframe\">\n",
       "  <thead>\n",
       "    <tr style=\"text-align: right;\">\n",
       "      <th></th>\n",
       "      <th>problem</th>\n",
       "      <th>basic_tokenized_problems</th>\n",
       "    </tr>\n",
       "  </thead>\n",
       "  <tbody>\n",
       "    <tr>\n",
       "      <th>0</th>\n",
       "      <td>Kevin Kangaroo begins hopping on a number line...</td>\n",
       "      <td>[kevin, kangaroo, begins, hopping, on, a, numb...</td>\n",
       "    </tr>\n",
       "    <tr>\n",
       "      <th>1</th>\n",
       "      <td>The ratio of the areas of two squares is $\\fra...</td>\n",
       "      <td>[the, ratio, of, the, areas, of, two, squares,...</td>\n",
       "    </tr>\n",
       "    <tr>\n",
       "      <th>2</th>\n",
       "      <td>If $\\sqrt{2\\sqrt{t-2}} = \\sqrt[4]{7 - t}$, the...</td>\n",
       "      <td>[if, $\\sqrt{2\\sqrt{t-2}}, =, \\sqrt[4]{7, -, t}...</td>\n",
       "    </tr>\n",
       "    <tr>\n",
       "      <th>3</th>\n",
       "      <td>Let $t(x) = \\sqrt{3x+1}$ and $f(x)=5-t(x)$. Wh...</td>\n",
       "      <td>[let, $t(x), =, \\sqrt{3x+1}$, and, $f(x)=5-t(x...</td>\n",
       "    </tr>\n",
       "    <tr>\n",
       "      <th>4</th>\n",
       "      <td>James has a total of 66 dollars in his piggy b...</td>\n",
       "      <td>[james, has, a, total, of, 66, dollars, in, hi...</td>\n",
       "    </tr>\n",
       "  </tbody>\n",
       "</table>\n",
       "</div>"
      ],
      "text/plain": [
       "                                             problem  \\\n",
       "0  Kevin Kangaroo begins hopping on a number line...   \n",
       "1  The ratio of the areas of two squares is $\\fra...   \n",
       "2  If $\\sqrt{2\\sqrt{t-2}} = \\sqrt[4]{7 - t}$, the...   \n",
       "3  Let $t(x) = \\sqrt{3x+1}$ and $f(x)=5-t(x)$. Wh...   \n",
       "4  James has a total of 66 dollars in his piggy b...   \n",
       "\n",
       "                            basic_tokenized_problems  \n",
       "0  [kevin, kangaroo, begins, hopping, on, a, numb...  \n",
       "1  [the, ratio, of, the, areas, of, two, squares,...  \n",
       "2  [if, $\\sqrt{2\\sqrt{t-2}}, =, \\sqrt[4]{7, -, t}...  \n",
       "3  [let, $t(x), =, \\sqrt{3x+1}$, and, $f(x)=5-t(x...  \n",
       "4  [james, has, a, total, of, 66, dollars, in, hi...  "
      ]
     },
     "execution_count": 9,
     "metadata": {},
     "output_type": "execute_result"
    }
   ],
   "source": [
    "# Basic tokenization function without using NLTK's word_tokenize\n",
    "def basic_tokenize(text):\n",
    "    # Convert to lowercase and split on whitespace\n",
    "    tokens = text.lower().split()\n",
    "    return tokens\n",
    "\n",
    "# Convert all entries in 'problem' to strings and handle NaN values by replacing them with a placeholder string\n",
    "data['problem'] = data['problem'].fillna('').astype(str)\n",
    "\n",
    "# Apply basic tokenization again to the 'problem' column\n",
    "data['basic_tokenized_problems'] = data['problem'].apply(basic_tokenize)\n",
    "\n",
    "# Display the first few rows with tokenized text to verify\n",
    "data[['problem', 'basic_tokenized_problems']].head()\n"
   ]
  },
  {
   "cell_type": "code",
   "execution_count": null,
   "metadata": {},
   "outputs": [
    {
     "ename": "ModuleNotFoundError",
     "evalue": "No module named 'sklearn'",
     "output_type": "error",
     "traceback": [
      "\u001b[1;31m---------------------------------------------------------------------------\u001b[0m",
      "\u001b[1;31mModuleNotFoundError\u001b[0m                       Traceback (most recent call last)",
      "Cell \u001b[1;32mIn[12], line 1\u001b[0m\n\u001b[1;32m----> 1\u001b[0m \u001b[38;5;28;01mfrom\u001b[39;00m \u001b[38;5;21;01msklearn\u001b[39;00m\u001b[38;5;21;01m.\u001b[39;00m\u001b[38;5;21;01mfeature_extraction\u001b[39;00m\u001b[38;5;21;01m.\u001b[39;00m\u001b[38;5;21;01mtext\u001b[39;00m \u001b[38;5;28;01mimport\u001b[39;00m TfidfVectorizer\n\u001b[0;32m      3\u001b[0m \u001b[38;5;66;03m# Initialize the TF-IDF Vectorizer\u001b[39;00m\n\u001b[0;32m      4\u001b[0m tfidf_vectorizer \u001b[38;5;241m=\u001b[39m TfidfVectorizer()\n",
      "\u001b[1;31mModuleNotFoundError\u001b[0m: No module named 'sklearn'"
     ]
    },
    {
     "data": {
      "text/plain": [
       "(12501, 10331)"
      ]
     },
     "execution_count": 14,
     "metadata": {},
     "output_type": "execute_result"
    }
   ],
   "source": [
    "from sklearn.feature_extraction.text import TfidfVectorizer\n",
    "\n",
    "# Initialize the TF-IDF Vectorizer\n",
    "tfidf_vectorizer = TfidfVectorizer()\n",
    "\n",
    "# We use the original 'problem' column to fit and transform with TF-IDF\n",
    "# This is because TF-IDF is designed to work directly with text data\n",
    "tfidf_matrix = tfidf_vectorizer.fit_transform(data['problem'])\n",
    "\n",
    "# Show the shape of the TF-IDF matrix to understand its structure\n",
    "tfidf_matrix.shape\n"
   ]
  }
 ],
 "metadata": {
  "kernelspec": {
   "display_name": "quan_comp",
   "language": "python",
   "name": "python3"
  },
  "language_info": {
   "codemirror_mode": {
    "name": "ipython",
    "version": 3
   },
   "file_extension": ".py",
   "mimetype": "text/x-python",
   "name": "python",
   "nbconvert_exporter": "python",
   "pygments_lexer": "ipython3",
   "version": "3.12.2"
  }
 },
 "nbformat": 4,
 "nbformat_minor": 2
}
